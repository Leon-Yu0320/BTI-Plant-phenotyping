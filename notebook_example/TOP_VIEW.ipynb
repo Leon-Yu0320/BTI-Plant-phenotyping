{
 "cells": [
  {
   "cell_type": "code",
   "execution_count": null,
   "metadata": {},
   "outputs": [],
   "source": [
    "#import libraires\n",
    "\n",
    "import os\n",
    "import numpy as np\n",
    "import argparse \n",
    "from plantcv import plantcv as pcv"
   ]
  },
  {
   "cell_type": "code",
   "execution_count": null,
   "metadata": {},
   "outputs": [],
   "source": [
    "class options:\n",
    "    def __init__(self):\n",
    "        self.image = \"image_example/raspiY_side3_2021.10.15-13.43.24.jpg\"\n",
    "        self.debug = \"plot\"\n",
    "        self.writeimg= True\n",
    "        self.result = \"./Results\"\n",
    "        self.outdir = \"./Results\"\n",
    "        \n",
    "# Store the output to the current directory \n",
    "# Get options\n",
    "args = options()\n",
    "\n",
    "# Set debug to the global parameter \n",
    "pcv.params.debug = args.debug\n"
   ]
  },
  {
   "cell_type": "code",
   "execution_count": null,
   "metadata": {
    "scrolled": false
   },
   "outputs": [],
   "source": [
    "# Read image\n",
    "\n",
    "# Inputs:\n",
    "#   filename - Image file to be read in \n",
    "#   mode - How to read in the image; either 'native' (default), 'rgb', 'gray', or 'csv'\n",
    "img, path, filename = pcv.readimage(filename=args.image)"
   ]
  },
  {
   "cell_type": "code",
   "execution_count": null,
   "metadata": {
    "scrolled": false
   },
   "outputs": [],
   "source": [
    "img1 = pcv.white_balance(img, roi=(995,400,55,55))"
   ]
  },
  {
   "cell_type": "code",
   "execution_count": null,
   "metadata": {
    "scrolled": true
   },
   "outputs": [],
   "source": [
    "#Rotate the image slightly so the plants line up with\n",
    "#the grid that we'll add in a later step\n",
    "#Inputs:\n",
    "#img = image object, RGB color space¶\n",
    "#rotation_deg = Rotation angle in degrees, can be negative, positive values\n",
    "#will move counter-clockwise\n",
    "#crop = If True then image will be cropped to orginal image dimensions, if False\n",
    "#the image size will be adjusted to accommodate new image dimensions\n",
    "img1 = pcv.rotate(img=img1, rotation_deg=0, crop=False)"
   ]
  },
  {
   "cell_type": "code",
   "execution_count": null,
   "metadata": {
    "scrolled": false
   },
   "outputs": [],
   "source": [
    "# Shift image. This step is important for clustering later on.\n",
    "# For this image it also allows you to push the green raspberry pi camera\n",
    "# out of the image. This step might not be necessary for all images.\n",
    "# The resulting image is the same size as the original.\n",
    "\n",
    "# Inputs:\n",
    "#   img    = image object\n",
    "#   number = integer, number of pixels to move image\n",
    "#   side   = direction to move from \"top\", \"bottom\", \"right\",\"left\"\n",
    "imgs = pcv.shift_img(img=img1, number=20, side='left')\n",
    "img1 = pcv.shift_img(img=imgs, number=20, side='top')"
   ]
  },
  {
   "cell_type": "code",
   "execution_count": null,
   "metadata": {
    "scrolled": false
   },
   "outputs": [],
   "source": [
    "# Convert image from RGB color space to LAB color space\n",
    "# Keep only the green-magenta channel (grayscale)\n",
    "\n",
    "# Inputs:\n",
    "#    rgb_img = image object, RGB color space\n",
    "#    channel = color subchannel ('l' = lightness, 'a' = green-magenta , 'b' = blue-yellow)\n",
    "a = pcv.rgb2gray_lab(rgb_img=img1, channel='a')"
   ]
  },
  {
   "cell_type": "code",
   "execution_count": null,
   "metadata": {},
   "outputs": [],
   "source": [
    "np.min(a)\n",
    "np.max(a)"
   ]
  },
  {
   "cell_type": "code",
   "execution_count": null,
   "metadata": {
    "scrolled": false
   },
   "outputs": [],
   "source": [
    "# Set a binary threshold on the saturation channel image\n",
    "\n",
    "# Inputs:\n",
    "#    gray_img    = img object, grayscale\n",
    "#    threshold   = threshold value (0-255)\n",
    "#    max_value   = value to apply above threshold (usually 255 = white)\n",
    "#    object_type = light or dark\n",
    "#       - If object is light then standard thresholding is done\n",
    "#       - If object is dark then inverse thresholding is done\n",
    "img_binary = pcv.threshold.binary(gray_img=a, threshold=104, max_value=255, object_type='dark')\n",
    "#                                                        ^\n",
    "#                                                        |\n",
    "#                                         adjust this value"
   ]
  },
  {
   "cell_type": "code",
   "execution_count": null,
   "metadata": {},
   "outputs": [],
   "source": [
    "id_objects, obj_hierarchy = pcv.find_objects(img=img1, mask= img_binary)"
   ]
  },
  {
   "cell_type": "code",
   "execution_count": null,
   "metadata": {},
   "outputs": [],
   "source": [
    "# Define region of interest (ROI)\n",
    "\n",
    "# Inputs:\n",
    "#    img   = An RGB or grayscale image to plot the ROI on.\n",
    "#    x     = The x-coordinate of the upper left corner of the rectangle.\n",
    "#    y     = The y-coordinate of the upper left corner of the rectangle.\n",
    "#    h     = The width of the rectangle.\n",
    "#    w     = The height of the rectangle.\n",
    "#   roi_contour, roi_hierarchy = pcv.roi.rectangle(600, 900, 20000, 20000, img1) \n",
    "#                                                  |______________|\n",
    "#                                            adjust these four values\n",
    "roi_contour, roi_hierarchy = pcv.roi.rectangle(img=img1, x=75, y=95, h=1875, w=1970)\n"
   ]
  },
  {
   "cell_type": "code",
   "execution_count": null,
   "metadata": {},
   "outputs": [],
   "source": [
    "# Keep objects that overlap with the ROI\n",
    "\n",
    "# Inputs:\n",
    "#    img            = img to display kept objects\n",
    "#    roi_contour    = contour of roi, output from any ROI function\n",
    "#    roi_hierarchy  = contour of roi, output from any ROI function\n",
    "#    object_contour = contours of objects, output from pcv.find_objects function\n",
    "#    obj_hierarchy  = hierarchy of objects, output from pcv.find_objects function\n",
    "#    roi_type       = 'partial' (default, for partially inside the ROI), 'cutto', or \n",
    "#                     'largest' (keep only largest contour)\n",
    "roi_objects, roi_obj_hierarchy, kept_mask, obj_area = pcv.roi_objects(img=img1, roi_contour=roi_contour, \n",
    "                                                                      roi_hierarchy=roi_hierarchy,\n",
    "                                                                      object_contour=id_objects, \n",
    "                                                                      obj_hierarchy=obj_hierarchy, \n",
    "                                                                      roi_type='partial')"
   ]
  },
  {
   "cell_type": "code",
   "execution_count": null,
   "metadata": {},
   "outputs": [],
   "source": [
    "# Check if all of the plants fall completely within the bounds of an image \n",
    "# or if it touches the edge. Used for QC. \n",
    "\n",
    "# Inputs:\n",
    "#   mask = Binary mask \n",
    "in_bounds = pcv.within_frame(mask=kept_mask)"
   ]
  },
  {
   "cell_type": "code",
   "execution_count": null,
   "metadata": {},
   "outputs": [],
   "source": [
    "# This function take a image with multiple contours and\n",
    "# clusters them based on user input of rows and columns\n",
    "\n",
    "# Inputs:\n",
    "#    img               = An RGB or grayscale image\n",
    "#    roi_objects       = object contours in an image that are needed to be clustered.\n",
    "#    roi_obj_hierarchy = object hierarchy\n",
    "#    nrow              = number of rows to cluster (this should be the approximate  number of \n",
    "#                        desired rows in the entire image even if there isn't a literal row of plants)\n",
    "#    ncol              = number of columns to cluster (this should be the approximate number of \n",
    "#                        desired columns in the entire image even if there isn't a literal row of plants)\n",
    "#    show_grid         = if True then the grid is drawn on the image, default show_grid=False\n",
    "clusters_i, contours, hierarchies = pcv.cluster_contours(img=img1, roi_objects=roi_objects, \n",
    "                                                         roi_obj_hierarchy=roi_obj_hierarchy, \n",
    "                                                         nrow=4, ncol=4, \n",
    "                                                         show_grid=True)\n"
   ]
  },
  {
   "cell_type": "code",
   "execution_count": null,
   "metadata": {
    "scrolled": true
   },
   "outputs": [],
   "source": [
    "rois1, roi_hierarchy1 = pcv.roi.multi(img=img1, coord=(330,250), radius=180, spacing=(475, 475), nrows=4, ncols=4)"
   ]
  },
  {
   "cell_type": "code",
   "execution_count": null,
   "metadata": {
    "scrolled": false
   },
   "outputs": [],
   "source": [
    "img_copy = np.copy(img1)\n",
    "for i in range(0, len(rois1)):\n",
    "    roi = rois1[i]\n",
    "    hierarchy = roi_hierarchy1[i]\n",
    "    # Filter objects by ROI \n",
    "    filtered_contours, filtered_hierarchy, filtered_mask, filtered_area = pcv.roi_objects(img=img_copy, roi_type=\"partial\", roi_contour=roi, roi_hierarchy=hierarchy, object_contour=roi_objects, obj_hierarchy=roi_obj_hierarchy)\n",
    "\n",
    "    # Combine objects together in each plant     \n",
    "    plant_contour, plant_mask = pcv.object_composition(img=img_copy, contours=filtered_contours, hierarchy=filtered_hierarchy)         \n",
    "        \n",
    "    #Build a new array to distinguish missing plants\n",
    "    test = np.array(plant_contour)\n",
    "        \n",
    "     # Analyze the shape of each existing plant:\n",
    "    if test.dtype == 'int32':\n",
    "        analysis_images = pcv.analyze_object(img=img_copy, obj=plant_contour, mask=plant_mask)\n",
    "            \n",
    "        # Save the image with shape characteristics \n",
    "        test2 = np.array(analysis_images)\n",
    "        if test2.dtype == 'uint8':\n",
    "            img_copy = analysis_images\n",
    "                \n",
    "            pcv.outputs.add_observation(sample = 'default',variable = 'plantID', trait = 'roi', method = 'roi', scale = 'int', datatype = int, value= filename[:-4] + \"-\" + str(i), label = '#')\n",
    "\n",
    "            # Print out a text file with shape data for each plant in the image \n",
    "            pcv.print_results(filename = args.result + str(i) + '.txt')\n",
    "            # Clear the measurements stored globally into the Ouptuts class\n",
    "            pcv.outputs.clear()  \n",
    "\n",
    "\n",
    "if args.writeimg:\n",
    "    outfile = os.path.join(args.outdir, filename[:-4] + \".png\")\n",
    "    pcv.print_image(img=img_copy, filename=outfile)\n",
    "\n"
   ]
  },
  {
   "cell_type": "code",
   "execution_count": null,
   "metadata": {},
   "outputs": [],
   "source": []
  }
 ],
 "metadata": {
  "kernelspec": {
   "display_name": "Python 3",
   "language": "python",
   "name": "python3"
  },
  "language_info": {
   "codemirror_mode": {
    "name": "ipython",
    "version": 3
   },
   "file_extension": ".py",
   "mimetype": "text/x-python",
   "name": "python",
   "nbconvert_exporter": "python",
   "pygments_lexer": "ipython3",
   "version": "3.8.6"
  }
 },
 "nbformat": 4,
 "nbformat_minor": 4
}
