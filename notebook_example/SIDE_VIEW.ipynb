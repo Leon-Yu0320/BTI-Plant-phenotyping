{
 "cells": [
  {
   "cell_type": "code",
   "execution_count": null,
   "metadata": {},
   "outputs": [],
   "source": [
    "import sys, traceback\n",
    "from plantcv import plantcv as pcv\n",
    "import cv2\n",
    "import numpy as np\n",
    "import glob\n",
    "import os"
   ]
  },
  {
   "cell_type": "code",
   "execution_count": null,
   "metadata": {},
   "outputs": [],
   "source": [
    "\n",
    "class options:\n",
    "    def __init__(self):\n",
    "        self.image = \"../image_example/raspiU_cameraA.2021.09.07-20.30.01.jpg\"\n",
    "        self.debug = \"plot\"\n",
    "        self.writeimg= True\n",
    "        self.result = \"./Results\"\n",
    "        self.outdir = \"./Results\"\n",
    "        \n",
    "# Store the output to the current directory \n",
    "# Get options\n",
    "args = options()\n",
    "\n",
    "# Set debug to the global parameter \n",
    "pcv.params.debug = args.debug"
   ]
  },
  {
   "cell_type": "code",
   "execution_count": null,
   "metadata": {
    "scrolled": true
   },
   "outputs": [],
   "source": [
    "#read in image\n",
    "img, path, img_filename = pcv.readimage(filename=args.image, mode=\"native\")"
   ]
  },
  {
   "cell_type": "code",
   "execution_count": null,
   "metadata": {},
   "outputs": [],
   "source": [
    "# Corrects image based on color standard and stores output as corrected_img\n",
    "corrected_img = pcv.white_balance(img=img, mode='hist', roi=[450, 1250, 100, 100])"
   ]
  },
  {
   "cell_type": "code",
   "execution_count": null,
   "metadata": {},
   "outputs": [],
   "source": [
    "# Examine all colorspaces at one glance\n",
    "colorspace_img = pcv.visualize.colorspaces(rgb_img=corrected_img)"
   ]
  },
  {
   "cell_type": "code",
   "execution_count": null,
   "metadata": {},
   "outputs": [],
   "source": [
    "h = pcv.rgb2gray_hsv(rgb_img=corrected_img, channel='h')\n",
    "s = pcv.rgb2gray_hsv(rgb_img=corrected_img, channel='s')\n",
    "v = pcv.rgb2gray_hsv(rgb_img=corrected_img, channel='v')"
   ]
  },
  {
   "cell_type": "code",
   "execution_count": null,
   "metadata": {},
   "outputs": [],
   "source": [
    "v_thresh = pcv.threshold.binary(gray_img=v, threshold=95, max_value=np.max(v),object_type='dark')"
   ]
  },
  {
   "cell_type": "code",
   "execution_count": null,
   "metadata": {},
   "outputs": [],
   "source": [
    "l = pcv.rgb2gray_lab(rgb_img=corrected_img, channel='l')\n",
    "a = pcv.rgb2gray_lab(rgb_img=corrected_img, channel='a')\n",
    "b = pcv.rgb2gray_lab(rgb_img=corrected_img, channel='b')"
   ]
  },
  {
   "cell_type": "code",
   "execution_count": null,
   "metadata": {},
   "outputs": [],
   "source": [
    "a_thresh1 = pcv.threshold.binary(gray_img=a, threshold=113, max_value=np.max(a), object_type='dark')"
   ]
  },
  {
   "cell_type": "code",
   "execution_count": null,
   "metadata": {},
   "outputs": [],
   "source": [
    "# median filter on a_thresh image\n",
    "\n",
    "a_thresh = pcv.median_blur(a_thresh1, 2)"
   ]
  },
  {
   "cell_type": "code",
   "execution_count": null,
   "metadata": {},
   "outputs": [],
   "source": [
    "v_a = pcv.logical_or(bin_img1=v_thresh, bin_img2=a_thresh)"
   ]
  },
  {
   "cell_type": "code",
   "execution_count": null,
   "metadata": {},
   "outputs": [],
   "source": [
    "masked = pcv.apply_mask(img=img, mask=v_a, mask_color=\"white\")"
   ]
  },
  {
   "cell_type": "code",
   "execution_count": null,
   "metadata": {},
   "outputs": [],
   "source": [
    "id_objects, obj_hierarchy = pcv.find_objects(img=masked, mask=a_thresh)"
   ]
  },
  {
   "cell_type": "code",
   "execution_count": null,
   "metadata": {},
   "outputs": [],
   "source": [
    "roi1, roi_hierarchy = pcv.roi.rectangle(img= masked, x=350, y=200 , h=1300, w=1300)"
   ]
  },
  {
   "cell_type": "code",
   "execution_count": null,
   "metadata": {},
   "outputs": [],
   "source": [
    "roi_objects, hierarchy3, kept_mask, obj_area = pcv.roi_objects(img = img, roi_contour=roi1,\n",
    "                                                              roi_hierarchy=roi_hierarchy,\n",
    "                                                              object_contour=id_objects,\n",
    "                                                              obj_hierarchy= obj_hierarchy,\n",
    "                                                              roi_type=\"partial\")"
   ]
  },
  {
   "cell_type": "code",
   "execution_count": null,
   "metadata": {},
   "outputs": [],
   "source": [
    "obj, mask = pcv.object_composition(img=img, contours=roi_objects, \n",
    "                                  hierarchy= hierarchy3)"
   ]
  },
  {
   "cell_type": "code",
   "execution_count": null,
   "metadata": {},
   "outputs": [],
   "source": [
    "analysis_image = pcv.analyze_object(img=img, obj=obj, mask=mask)"
   ]
  }
 ],
 "metadata": {
  "interpreter": {
   "hash": "27c55618413cf9cde4fbd47dacdbc3a4fcc2615cd75e1d56a16638bfd7a60954"
  },
  "kernelspec": {
   "display_name": "Python 3",
   "language": "python",
   "name": "python3"
  },
  "language_info": {
   "codemirror_mode": {
    "name": "ipython",
    "version": 3
   },
   "file_extension": ".py",
   "mimetype": "text/x-python",
   "name": "python",
   "nbconvert_exporter": "python",
   "pygments_lexer": "ipython3",
   "version": "3.8.6"
  }
 },
 "nbformat": 4,
 "nbformat_minor": 2
}
